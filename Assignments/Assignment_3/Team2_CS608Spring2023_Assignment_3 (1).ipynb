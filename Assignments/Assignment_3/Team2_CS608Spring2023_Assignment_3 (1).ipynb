{
  "cells": [
    {
      "cell_type": "markdown",
      "metadata": {
        "id": "hL8D7dEMAHd5"
      },
      "source": [
        "Yakshita Rakholiya\n",
        "Dhruv Ranpariya\n",
        "Suraj Salunkhe\n",
        "Course: CS-608-21141\n",
        "Assignment-3\n",
        "Team-2"
      ]
    },
    {
      "cell_type": "code",
      "execution_count": null,
      "metadata": {
        "colab": {
          "base_uri": "https://localhost:8080/"
        },
        "id": "ZG93-ZO4AOg9",
        "outputId": "19cd4934-7508-4f92-bcdb-4edbeb5b7600"
      },
      "outputs": [
        {
          "name": "stdout",
          "output_type": "stream",
          "text": [
            "CS608-SPRING 2023: ALGORITHMS & COMPUTING THEORY Assignment#3 \n"
          ]
        }
      ],
      "source": [
        "print(\"CS608-SPRING 2023: ALGORITHMS & COMPUTING THEORY Assignment#3 \")"
      ]
    },
    {
      "cell_type": "markdown",
      "metadata": {
        "id": "Ceuc4remBQy5"
      },
      "source": [
        "1. Validate Binary Search Tree\n",
        "Determine if a given root of a tree is a valid binary search tree (BST)\n",
        "A valid BST is defined as follows:\n",
        "• Given root, the left subtree of a node contains only nodes with\n",
        "keys less than the node's key.\n",
        "• Given root, the right subtree of a node contains only nodes with\n",
        "keys greater than the node's key.\n",
        "• Ensure that both the left and right subtrees are also binary search\n",
        "trees.\n",
        "Example:\n",
        "Input: root = [2,1,3]\n",
        "    2\n",
        "   / \\\n",
        "  1   3\n",
        "\n",
        "  Output: true"
      ]
    },
    {
      "cell_type": "code",
      "execution_count": 2,
      "metadata": {
        "colab": {
          "base_uri": "https://localhost:8080/"
        },
        "id": "lgW4T3V_BQZG",
        "outputId": "d26c9861-fb5c-49f5-9e3f-d045fe07864d"
      },
      "outputs": [
        {
          "output_type": "stream",
          "name": "stdout",
          "text": [
            "Enter values for tree nodes (separated by commas): 2,1,3\n",
            "True\n"
          ]
        }
      ],
      "source": [
        "class TreeNode:\n",
        "    def __init__(self, val=0, left=None, right=None):\n",
        "        self.val = val\n",
        "        self.left = left\n",
        "        self.right = right\n",
        "# Function to validate if a given tree is a valid BST\n",
        "def isValidBST(root):\n",
        "    def helper(node, lower=float('-inf'), upper=float('inf')):\n",
        "        # Base case: if node is None, it's valid\n",
        "        if node is None:\n",
        "            return True\n",
        "        # Check if the node violates the BST property\n",
        "        if node.val <= lower or node.val >= upper:\n",
        "            return False\n",
        "        # Recursively check left and right subtrees\n",
        "        return (helper(node.left, lower, node.val) and\n",
        "                helper(node.right, node.val, upper))\n",
        "    return helper(root)\n",
        "# Function to accept input values for the tree nodes\n",
        "def buildTree():\n",
        "    nodes = input(\"Enter values for tree nodes (separated by commas): \").split(',')\n",
        "    nodes = [int(val) if val != 'None' else None for val in nodes]\n",
        "    if not nodes:\n",
        "        return None\n",
        "    root = TreeNode(nodes[0])\n",
        "    queue = [root]\n",
        "    i = 1\n",
        "    # Build the tree level-wise using a queue\n",
        "    while i < len(nodes):\n",
        "        node = queue.pop(0)\n",
        "        # Create left child if not None\n",
        "        if nodes[i] is not None:\n",
        "            node.left = TreeNode(nodes[i])\n",
        "            queue.append(node.left)\n",
        "        i += 1\n",
        "        # Create right child if not None\n",
        "        if i < len(nodes) and nodes[i] is not None:\n",
        "            node.right = TreeNode(nodes[i])\n",
        "            queue.append(node.right)\n",
        "        i += 1\n",
        "    return root\n",
        "# Example usage\n",
        "# Input values for tree nodes\n",
        "root = buildTree()\n",
        "# Validate if the given tree is a valid BST\n",
        "is_valid_bst = isValidBST(root)\n",
        "# Print the result\n",
        "print(is_valid_bst)\n"
      ]
    },
    {
      "cell_type": "markdown",
      "metadata": {
        "id": "1i3kdEwKCZGJ"
      },
      "source": [
        "2. Balanced Binary Tree\n",
        "Determine if a binary tree is height-balanced.\n",
        "A height-balanced binary tree is defined as a binary tree in which the left\n",
        "and right subtrees of every node differ in height by no more than 1.\n",
        "Example:\n",
        "Input: root = [3,9,20,null,null,15,7]\n",
        "Output: true\n",
        "\n",
        "        3\n",
        "       / \\\n",
        "      9  20\n",
        "        /  \\\n",
        "       15   7"
      ]
    },
    {
      "cell_type": "code",
      "execution_count": 3,
      "metadata": {
        "id": "hf8cprDSAmHw",
        "colab": {
          "base_uri": "https://localhost:8080/"
        },
        "outputId": "1f62a27f-356e-4569-f56a-72a6b44fccc5"
      },
      "outputs": [
        {
          "output_type": "stream",
          "name": "stdout",
          "text": [
            "Enter values for tree nodes (separated by commas): 3,9,20,None,None,15,7\n",
            "True\n"
          ]
        }
      ],
      "source": [
        "class TreeNode:\n",
        "    def __init__(self, val=0, left=None, right=None):\n",
        "        self.val = val\n",
        "        self.left = left\n",
        "        self.right = right\n",
        "# Function to determine if a binary tree is height-balanced\n",
        "def is_balanced(root):\n",
        "    def height(node):\n",
        "        # Base case: height of None is -1\n",
        "        if node is None:\n",
        "            return -1\n",
        "        # Recursively calculate height of left and right subtrees\n",
        "        return 1 + max(height(node.left), height(node.right))\n",
        "    # Check if the height difference between left and right subtrees is no more than 1\n",
        "    def check_balance(node):\n",
        "        if node is None:\n",
        "            return True\n",
        "        left_height = height(node.left)\n",
        "        right_height = height(node.right)\n",
        "        if abs(left_height - right_height) > 1:\n",
        "            return False\n",
        "        return check_balance(node.left) and check_balance(node.right)\n",
        "    return check_balance(root)\n",
        "# Function to accept input values for the tree nodes\n",
        "def build_tree():\n",
        "    nodes = input(\"Enter values for tree nodes (separated by commas): \").split(',')\n",
        "    nodes = [int(val) if val != 'None' else None for val in nodes]\n",
        "    if not nodes:\n",
        "        return None   \n",
        "    root = TreeNode(nodes[0])\n",
        "    queue = [root]\n",
        "    i = 1   \n",
        "    # Build the tree level-wise using a queue\n",
        "    while i < len(nodes):\n",
        "        node = queue.pop(0)       \n",
        "        # Create left child if not None\n",
        "        if nodes[i] is not None:\n",
        "            node.left = TreeNode(nodes[i])\n",
        "            queue.append(node.left)        \n",
        "        i += 1        \n",
        "        # Create right child if not None\n",
        "        if i < len(nodes) and nodes[i] is not None:\n",
        "            node.right = TreeNode(nodes[i])\n",
        "            queue.append(node.right)        \n",
        "        i += 1    \n",
        "    return root\n",
        "# Example usage\n",
        "# Input values for tree nodes\n",
        "root = build_tree()\n",
        "# Check if the given tree is height-balanced\n",
        "is_balanced_tree = is_balanced(root)\n",
        "# Print the result\n",
        "print(is_balanced_tree)\n"
      ]
    },
    {
      "cell_type": "markdown",
      "metadata": {
        "id": "51JAvQU9DkuR"
      },
      "source": [
        "3. Convert Sorted Array to Binary Search Tree\n",
        "Given an integer array, where the elements are sorted in ascending\n",
        "order, convert it to a height-balanced binary search tree.\n",
        "A height-balanced binary tree is a binary tree in which the depth of the\n",
        "two subtrees of every node never differs by more than one.\n",
        "Example 1:\n",
        "Input: nums = [-10,-3,0,5,9]\n",
        "Output: [0,-3,9,-10,null,5]\n",
        "\n"
      ]
    },
    {
      "cell_type": "code",
      "execution_count": 4,
      "metadata": {
        "colab": {
          "base_uri": "https://localhost:8080/"
        },
        "id": "nf4mCJbnDkSp",
        "outputId": "eaef5ee7-f791-47d4-d477-6988f98688d9"
      },
      "outputs": [
        {
          "output_type": "stream",
          "name": "stdout",
          "text": [
            "Enter values (separated by commas): -10,-3,0,5,9\n",
            "0,-3,9,-10,None,5\n"
          ]
        }
      ],
      "source": [
        "class TreeNode:\n",
        "    def __init__(self, val=0, left=None, right=None):\n",
        "        self.val = val\n",
        "        self.left = left\n",
        "        self.right = right\n",
        "\n",
        "def sortedArrayToBST(nums):\n",
        "    \"\"\"\n",
        "    :type nums: List[int]\n",
        "    :rtype: TreeNode\n",
        "    \"\"\"\n",
        "    if not nums: # if list is empty, return None\n",
        "        return None\n",
        "    \n",
        "    mid = len(nums) // 2 # find the mid-point index\n",
        "    \n",
        "    # create a new node with the value of the mid-point\n",
        "    root = TreeNode(nums[mid])\n",
        "    \n",
        "    # recursively build left and right subtrees\n",
        "    root.left = sortedArrayToBST(nums[:mid])\n",
        "    root.right = sortedArrayToBST(nums[mid+1:])\n",
        "    \n",
        "    return root # return the root of the tree\n",
        "\n",
        "\n",
        "# Driver code to test the implementation\n",
        "if __name__ == \"__main__\":\n",
        "    nums = list(map(int, input(\"Enter values (separated by commas): \").split(','))) # take input from user as space separated integers\n",
        "    root = sortedArrayToBST(nums) # convert the input array into BST\n",
        "    output = [] # list to store the values of tree nodes in level-order\n",
        "    \n",
        "    queue = [root] # queue to perform level-order traversal\n",
        "    while queue:\n",
        "        node = queue.pop(0)\n",
        "        if node:\n",
        "            output.append(node.val)\n",
        "            queue.append(node.left)\n",
        "            queue.append(node.right)\n",
        "        else:\n",
        "            output.append(None)\n",
        "    \n",
        "    # remove any trailing None values from the output list\n",
        "    while output[-1] is None:\n",
        "        output.pop()\n",
        "    \n",
        "    print(*output, sep=\",\") # print the output in the desired format"
      ]
    },
    {
      "cell_type": "markdown",
      "metadata": {
        "id": "wj4coNl3BOv7"
      },
      "source": []
    }
  ],
  "metadata": {
    "colab": {
      "provenance": []
    },
    "kernelspec": {
      "display_name": "Python 3",
      "name": "python3"
    },
    "language_info": {
      "name": "python"
    }
  },
  "nbformat": 4,
  "nbformat_minor": 0
}