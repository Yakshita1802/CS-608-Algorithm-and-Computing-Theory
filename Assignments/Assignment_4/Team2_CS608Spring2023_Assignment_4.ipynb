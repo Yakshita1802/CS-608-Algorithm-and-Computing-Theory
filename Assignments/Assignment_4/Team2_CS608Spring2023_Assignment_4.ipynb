{
  "cells": [
    {
      "cell_type": "markdown",
      "metadata": {
        "id": "nfJvScUhBNUp"
      },
      "source": [
        "Yakshita Rakholiya\n",
        "Dhruv Ranpariya\n",
        "Suraj Salunkhe\n",
        "Course: CS-608-21141\n",
        "Assignment-4"
      ]
    },
    {
      "cell_type": "code",
      "execution_count": null,
      "metadata": {
        "colab": {
          "base_uri": "https://localhost:8080/"
        },
        "id": "Cks-7UzVA28u",
        "outputId": "14c3d735-5d1b-4fa8-87b4-406725b6e59f"
      },
      "outputs": [
        {
          "ename": "",
          "evalue": "",
          "output_type": "error",
          "traceback": [
            "\u001b[1;31mJupyter cannot be started. Error attempting to locate Jupyter: Running cells requires notebook and jupyter package.\n",
            "\u001b[1;31mRun the following command to install 'jupyter and notebook' into the Python environment. \n",
            "\u001b[1;31mCommand: 'python -m pip install jupyter notebook -U\n",
            "\u001b[1;31mor\n",
            "\u001b[1;31mconda install jupyter notebook -U'\n",
            "\u001b[1;31mClick <a href='https://aka.ms/installJupyterForVSCode'>here</a> for more info."
          ]
        }
      ],
      "source": [
        "print(\"CS608-SPRING 2023: ALGORITHMS & COMPUTING THEORY Assignment#4 \")"
      ]
    },
    {
      "cell_type": "markdown",
      "metadata": {
        "id": "QezDQYb-BZpZ"
      },
      "source": [
        "Q-1\n",
        "Given an array of integers “nums”, sort the array in ascending order and return it. You must solve the problem without using any built-in functions and using merge sort in O(nlog(n)) time complexity."
      ]
    },
    {
      "cell_type": "code",
      "execution_count": 1,
      "metadata": {
        "colab": {
          "base_uri": "https://localhost:8080/"
        },
        "id": "b9piFWgOBjlU",
        "outputId": "bbce61d3-1450-43b9-f617-38f0aed36efb"
      },
      "outputs": [
        {
          "name": "stdout",
          "output_type": "stream",
          "text": [
            "Enter a list of integers separated by commas: 5,1,1,2,0,0\n",
            "Sorted array: [0, 0, 1, 1, 2, 5]\n"
          ]
        }
      ],
      "source": [
        "def merge(nums, left, mid, right):\n",
        "    # Create temporary arrays to hold the left and right sub-arrays\n",
        "    left_arr = nums[left:mid+1]\n",
        "    right_arr = nums[mid+1:right+1]\n",
        "    \n",
        "    i = 0  # Index for left_arr\n",
        "    j = 0  # Index for right_arr\n",
        "    k = left  # Index for nums\n",
        "\n",
        "    # Merge the left and right sub-arrays back into nums in ascending order\n",
        "    while i < len(left_arr) and j < len(right_arr):\n",
        "        if left_arr[i] <= right_arr[j]:\n",
        "            nums[k] = left_arr[i]\n",
        "            i += 1\n",
        "        else:\n",
        "            nums[k] = right_arr[j]\n",
        "            j += 1\n",
        "        k += 1\n",
        "\n",
        "    # If there are any remaining elements in left_arr or right_arr, add them to nums\n",
        "    while i < len(left_arr):\n",
        "        nums[k] = left_arr[i]\n",
        "        i += 1\n",
        "        k += 1\n",
        "\n",
        "    while j < len(right_arr):\n",
        "        nums[k] = right_arr[j]\n",
        "        j += 1\n",
        "        k += 1\n",
        "\n",
        "def merge_sort_helper(nums, left, right):\n",
        "    if left < right:\n",
        "        mid = left + (right - left) // 2  # Find the middle index\n",
        "\n",
        "        # Recursively sort the left and right halves of the array\n",
        "        merge_sort_helper(nums, left, mid)\n",
        "        merge_sort_helper(nums, mid+1, right)\n",
        "\n",
        "        # Merge the sorted left and right halves\n",
        "        merge(nums, left, mid, right)\n",
        "\n",
        "def merge_sort(nums):\n",
        "    merge_sort_helper(nums, 0, len(nums) - 1)\n",
        "\n",
        "    return nums\n",
        "\n",
        "# Get input from the user\n",
        "nums = input(\"Enter a list of integers separated by commas: \").split(',')\n",
        "nums = list(map(int, nums))\n",
        "\n",
        "# Call merge_sort function to sort the input array\n",
        "sorted_nums = merge_sort(nums)\n",
        "print(\"Sorted array:\", sorted_nums)\n",
        "\n"
      ]
    },
    {
      "cell_type": "markdown",
      "metadata": {
        "id": "krCFwlSCDQjF"
      },
      "source": [
        "Q-2\n",
        "Assume you are an awesome friend and want to give your friends some cookies. But, you should give each friend at most one cookie.\n",
        "Each friend ‘i’ has a greed factor g[i], which is the minimum size of a cookie that the friend will be content with; and each cookie j has a size s[j]. If s[j] >= g[i], we can assign the cookie j to the friend i, and the friend i will be content. Your goal is to maximize the number of your content friends and output the maximum number."
      ]
    },
    {
      "cell_type": "code",
      "execution_count": 2,
      "metadata": {
        "colab": {
          "base_uri": "https://localhost:8080/"
        },
        "id": "D0fQiM_XDiji",
        "outputId": "43293760-e065-44a2-8260-c864a94582d5"
      },
      "outputs": [
        {
          "name": "stdout",
          "output_type": "stream",
          "text": [
            "Enter the greed factor of friends separated by commas: 1,2,3\n",
            "Enter the size of cookies separated by commas: 1,1\n",
            "Maximum number of content friends: 1\n"
          ]
        }
      ],
      "source": [
        "def find_content_children(g, s):\n",
        "    # Sort the greed factor and cookie size arrays in ascending order\n",
        "    g.sort()\n",
        "    s.sort()\n",
        "    \n",
        "    content = 0  # Counter for content friends\n",
        "    i = 0  # Index for greed factor array\n",
        "    j = 0  # Index for cookie size array\n",
        "    \n",
        "    while i < len(g) and j < len(s):\n",
        "        if s[j] >= g[i]:\n",
        "            # If the current cookie size can satisfy the greed factor of the current friend,\n",
        "            # assign the cookie to the friend and move on to the next friend and cookie\n",
        "            content += 1\n",
        "            i += 1\n",
        "            j += 1\n",
        "        else:\n",
        "            # If the current cookie size cannot satisfy the greed factor of the current friend,\n",
        "            # move on to the next cookie\n",
        "            j += 1\n",
        "    \n",
        "    return content\n",
        "\n",
        "# Get input from the user\n",
        "g = list(map(int, input(\"Enter the greed factor of friends separated by commas: \").split(',')))\n",
        "s = list(map(int, input(\"Enter the size of cookies separated by commas: \").split(',')))\n",
        "\n",
        "# Call the find_content_children function to calculate the maximum number of content friends\n",
        "max_content_friends = find_content_children(g, s)\n",
        "\n",
        "print(\"Maximum number of content friends:\", max_content_friends)\n"
      ]
    },
    {
      "cell_type": "markdown",
      "metadata": {
        "id": "6MSG4_XHESoV"
      },
      "source": [
        "Q-3\n",
        "You have some apples and a basket that can carry up to 5000 units of weight. Given an integer array weight where weight[i] is the weight of the ‘i’th apple, return the maximum number of apples you can put in the basket."
      ]
    },
    {
      "cell_type": "code",
      "execution_count": 3,
      "metadata": {
        "colab": {
          "base_uri": "https://localhost:8080/"
        },
        "id": "NlsQZMdrFCJs",
        "outputId": "9a55074d-18cb-4871-9b89-041e4eb661f8"
      },
      "outputs": [
        {
          "name": "stdout",
          "output_type": "stream",
          "text": [
            "Enter the weight of apples separated by commas: 900,950,800,1000,700,800\n",
            "Maximum number of apples that can be put in the basket: 5\n"
          ]
        }
      ],
      "source": [
        "def max_number_of_apples(weight):\n",
        "    weight.sort()  # Sort the weight array in ascending order\n",
        "    total_weight = 0  # Variable to track the total weight of apples\n",
        "    max_apples = 0  # Variable to store the maximum number of apples that can be put in the basket\n",
        "\n",
        "    for w in weight:\n",
        "        total_weight += w  # Add the weight of the current apple to the total weight\n",
        "\n",
        "        if total_weight <= 5000:\n",
        "            # If the total weight is less than or equal to 5000 units, increment the max_apples count\n",
        "            max_apples += 1\n",
        "        else:\n",
        "            # If the total weight exceeds 5000 units, break out of the loop as no more apples can be added\n",
        "            break\n",
        "\n",
        "    return max_apples\n",
        "\n",
        "# Get input from the user\n",
        "weight = list(map(int, input(\"Enter the weight of apples separated by commas: \").split(',')))\n",
        "\n",
        "# Call the max_number_of_apples function to calculate the maximum number of apples that can be put in the basket\n",
        "max_apples = max_number_of_apples(weight)\n",
        "\n",
        "print(\"Maximum number of apples that can be put in the basket:\", max_apples)\n"
      ]
    },
    {
      "cell_type": "markdown",
      "metadata": {
        "id": "p5tlC9U8GAXu"
      },
      "source": [
        "Q-4\n",
        "At a lemonade stand, each lemonade costs $5. Customers are standing in a queue to buy from you and order one at a time (in the order specified by bills). Each customer will only buy one lemonade and pay with either a $5, $10, or $20 bill. You must provide the correct change to each customer so that the net transaction is that the customer pays $5.\n",
        "Note that you do not have any change in hand at first.\n",
        "Given an integer array bills where bills[i] is the bill the ith customer pays, return true if you can provide every customer with the correct change, or false otherwise."
      ]
    },
    {
      "cell_type": "code",
      "execution_count": 4,
      "metadata": {
        "colab": {
          "base_uri": "https://localhost:8080/"
        },
        "id": "JDqhDak4GEpL",
        "outputId": "247e7572-5f47-4eed-b38e-3d43930131ec"
      },
      "outputs": [
        {
          "name": "stdout",
          "output_type": "stream",
          "text": [
            "Enter the bills paid by customers separated by commas: 5,5,10,10,20\n",
            "False\n"
          ]
        }
      ],
      "source": [
        "def lemonade_change(bills):\n",
        "    # Variables to keep track of available change of $5 and $10 bills\n",
        "    change_5 = 0\n",
        "    change_10 = 0\n",
        "\n",
        "    for bill in bills:\n",
        "        if bill == 5:\n",
        "            # If the customer pays with a $5 bill, no change is needed\n",
        "            change_5 += 1\n",
        "        elif bill == 10:\n",
        "            # If the customer pays with a $10 bill, need to provide $5 change\n",
        "            if change_5 > 0:\n",
        "                change_5 -= 1\n",
        "                change_10 += 1\n",
        "            else:\n",
        "                return False  # Cannot provide correct change, return False\n",
        "        elif bill == 20:\n",
        "            # If the customer pays with a $20 bill, need to provide $15 change\n",
        "            if change_10 > 0 and change_5 > 0:\n",
        "                change_10 -= 1\n",
        "                change_5 -= 1\n",
        "            elif change_5 >= 3:\n",
        "                change_5 -= 3\n",
        "            else:\n",
        "                return False  # Cannot provide correct change, return False\n",
        "\n",
        "    return True  # All customers provided with correct change, return True\n",
        "\n",
        "# Get input from the user\n",
        "bills = list(map(int, input(\"Enter the bills paid by customers separated by commas: \").split(',')))\n",
        "\n",
        "# Call the lemonade_change function to check if correct change can be provided to each customer\n",
        "is_possible = lemonade_change(bills)\n",
        "\n",
        "# Print the result\n",
        "print(is_possible)\n",
        "\n"
      ]
    }
  ],
  "metadata": {
    "colab": {
      "provenance": []
    },
    "kernelspec": {
      "display_name": "Python 3",
      "language": "python",
      "name": "python3"
    },
    "language_info": {
      "name": "python",
      "version": "3.11.1 (v3.11.1:a7a450f84a, Dec  6 2022, 15:24:06) [Clang 13.0.0 (clang-1300.0.29.30)]"
    },
    "vscode": {
      "interpreter": {
        "hash": "aee8b7b246df8f9039afb4144a1f6fd8d2ca17a180786b69acc140d282b71a49"
      }
    }
  },
  "nbformat": 4,
  "nbformat_minor": 0
}
